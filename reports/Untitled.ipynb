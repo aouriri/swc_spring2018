{
 "cells": [
  {
   "cell_type": "code",
   "execution_count": 16,
   "metadata": {},
   "outputs": [
    {
     "name": "stdout",
     "output_type": "stream",
     "text": [
      "       country continent  year  lifeExp       pop   gdpPercap\n",
      "0  Afghanistan      Asia  1952   28.801   8425333  779.445314\n",
      "1  Afghanistan      Asia  1957   30.332   9240934  820.853030\n",
      "2  Afghanistan      Asia  1962   31.997  10267083  853.100710\n",
      "3  Afghanistan      Asia  1967   34.020  11537966  836.197138\n",
      "4  Afghanistan      Asia  1972   36.088  13079460  739.981106\n"
     ]
    }
   ],
   "source": [
    "import plotnine\n",
    "from plotnine import *\n",
    "import pandas as pd\n",
    "\n",
    "#read data into Python\n",
    "myData=pd.read_table(\"Data/gapminder.txt\")\n",
    "\n",
    "#view first few lines of the dataset\n",
    "print(myData.head())"
   ]
  },
  {
   "cell_type": "code",
   "execution_count": 15,
   "metadata": {},
   "outputs": [],
   "source": [
    "def SelectDataByCont(df,continents_list):\n",
    "    \"\"\"select data for continents given in the 'continents_list' from a dataframe 'df'\"\"\"    \n",
    "    dataSubset=myData.loc[df['continent'].isin(continents_list),:]\n",
    "    return dataSubset"
   ]
  },
  {
   "cell_type": "code",
   "execution_count": 18,
   "metadata": {},
   "outputs": [],
   "source": [
    "myNewData=myData.loc[myData['continent']=='Africa' ,:]"
   ]
  },
  {
   "cell_type": "code",
   "execution_count": 22,
   "metadata": {},
   "outputs": [],
   "source": [
    "contList=['Africa', 'Americas']\n",
    "myNewData=myData.loc[myData['continent'].isin(contList),: ]"
   ]
  },
  {
   "cell_type": "code",
   "execution_count": 23,
   "metadata": {},
   "outputs": [
    {
     "name": "stdout",
     "output_type": "stream",
     "text": [
      "        country continent  year  lifeExp       pop     gdpPercap\n",
      "24      Algeria    Africa  1952   43.077   9279525   2449.008185\n",
      "25      Algeria    Africa  1957   45.685  10270856   3013.976023\n",
      "26      Algeria    Africa  1962   48.303  11000948   2550.816880\n",
      "27      Algeria    Africa  1967   51.407  12760499   3246.991771\n",
      "28      Algeria    Africa  1972   54.518  14760787   4182.663766\n",
      "29      Algeria    Africa  1977   58.014  17152804   4910.416756\n",
      "30      Algeria    Africa  1982   61.368  20033753   5745.160213\n",
      "31      Algeria    Africa  1987   65.799  23254956   5681.358539\n",
      "32      Algeria    Africa  1992   67.744  26298373   5023.216647\n",
      "33      Algeria    Africa  1997   69.152  29072015   4797.295051\n",
      "34      Algeria    Africa  2002   70.994  31287142   5288.040382\n",
      "35      Algeria    Africa  2007   72.301  33333216   6223.367465\n",
      "36       Angola    Africa  1952   30.015   4232095   3520.610273\n",
      "37       Angola    Africa  1957   31.999   4561361   3827.940465\n",
      "38       Angola    Africa  1962   34.000   4826015   4269.276742\n",
      "39       Angola    Africa  1967   35.985   5247469   5522.776375\n",
      "40       Angola    Africa  1972   37.928   5894858   5473.288005\n",
      "41       Angola    Africa  1977   39.483   6162675   3008.647355\n",
      "42       Angola    Africa  1982   39.942   7016384   2756.953672\n",
      "43       Angola    Africa  1987   39.906   7874230   2430.208311\n",
      "44       Angola    Africa  1992   40.647   8735988   2627.845685\n",
      "45       Angola    Africa  1997   40.963   9875024   2277.140884\n",
      "46       Angola    Africa  2002   41.003  10866106   2773.287312\n",
      "47       Angola    Africa  2007   42.731  12420476   4797.231267\n",
      "48    Argentina  Americas  1952   62.485  17876956   5911.315053\n",
      "49    Argentina  Americas  1957   64.399  19610538   6856.856212\n",
      "50    Argentina  Americas  1962   65.142  21283783   7133.166023\n",
      "51    Argentina  Americas  1967   65.634  22934225   8052.953021\n",
      "52    Argentina  Americas  1972   67.065  24779799   9443.038526\n",
      "53    Argentina  Americas  1977   68.481  26983828  10079.026740\n",
      "...         ...       ...   ...      ...       ...           ...\n",
      "1638  Venezuela  Americas  1982   68.557  15620766  11152.410110\n",
      "1639  Venezuela  Americas  1987   70.190  17910182   9883.584648\n",
      "1640  Venezuela  Americas  1992   71.150  20265563  10733.926310\n",
      "1641  Venezuela  Americas  1997   72.146  22374398  10165.495180\n",
      "1642  Venezuela  Americas  2002   72.766  24287670   8605.047831\n",
      "1643  Venezuela  Americas  2007   73.747  26084662  11415.805690\n",
      "1680     Zambia    Africa  1952   42.038   2672000   1147.388831\n",
      "1681     Zambia    Africa  1957   44.077   3016000   1311.956766\n",
      "1682     Zambia    Africa  1962   46.023   3421000   1452.725766\n",
      "1683     Zambia    Africa  1967   47.768   3900000   1777.077318\n",
      "1684     Zambia    Africa  1972   50.107   4506497   1773.498265\n",
      "1685     Zambia    Africa  1977   51.386   5216550   1588.688299\n",
      "1686     Zambia    Africa  1982   51.821   6100407   1408.678565\n",
      "1687     Zambia    Africa  1987   50.821   7272406   1213.315116\n",
      "1688     Zambia    Africa  1992   46.100   8381163   1210.884633\n",
      "1689     Zambia    Africa  1997   40.238   9417789   1071.353818\n",
      "1690     Zambia    Africa  2002   39.193  10595811   1071.613938\n",
      "1691     Zambia    Africa  2007   42.384  11746035   1271.211593\n",
      "1692   Zimbabwe    Africa  1952   48.451   3080907    406.884115\n",
      "1693   Zimbabwe    Africa  1957   50.469   3646340    518.764268\n",
      "1694   Zimbabwe    Africa  1962   52.358   4277736    527.272182\n",
      "1695   Zimbabwe    Africa  1967   53.995   4995432    569.795071\n",
      "1696   Zimbabwe    Africa  1972   55.635   5861135    799.362176\n",
      "1697   Zimbabwe    Africa  1977   57.674   6642107    685.587682\n",
      "1698   Zimbabwe    Africa  1982   60.363   7636524    788.855041\n",
      "1699   Zimbabwe    Africa  1987   62.351   9216418    706.157306\n",
      "1700   Zimbabwe    Africa  1992   60.377  10704340    693.420786\n",
      "1701   Zimbabwe    Africa  1997   46.809  11404948    792.449960\n",
      "1702   Zimbabwe    Africa  2002   39.989  11926563    672.038623\n",
      "1703   Zimbabwe    Africa  2007   43.487  12311143    469.709298\n",
      "\n",
      "[924 rows x 6 columns]\n"
     ]
    }
   ],
   "source": [
    "print(myNewData)"
   ]
  },
  {
   "cell_type": "code",
   "execution_count": 24,
   "metadata": {},
   "outputs": [],
   "source": [
    "myNewData=myData.loc[(myData['continent']=='Africa') | (myData['continent']=='Americas'), :]"
   ]
  },
  {
   "cell_type": "code",
   "execution_count": 25,
   "metadata": {},
   "outputs": [
    {
     "name": "stdout",
     "output_type": "stream",
     "text": [
      "        country continent  year  lifeExp       pop     gdpPercap\n",
      "24      Algeria    Africa  1952   43.077   9279525   2449.008185\n",
      "25      Algeria    Africa  1957   45.685  10270856   3013.976023\n",
      "26      Algeria    Africa  1962   48.303  11000948   2550.816880\n",
      "27      Algeria    Africa  1967   51.407  12760499   3246.991771\n",
      "28      Algeria    Africa  1972   54.518  14760787   4182.663766\n",
      "29      Algeria    Africa  1977   58.014  17152804   4910.416756\n",
      "30      Algeria    Africa  1982   61.368  20033753   5745.160213\n",
      "31      Algeria    Africa  1987   65.799  23254956   5681.358539\n",
      "32      Algeria    Africa  1992   67.744  26298373   5023.216647\n",
      "33      Algeria    Africa  1997   69.152  29072015   4797.295051\n",
      "34      Algeria    Africa  2002   70.994  31287142   5288.040382\n",
      "35      Algeria    Africa  2007   72.301  33333216   6223.367465\n",
      "36       Angola    Africa  1952   30.015   4232095   3520.610273\n",
      "37       Angola    Africa  1957   31.999   4561361   3827.940465\n",
      "38       Angola    Africa  1962   34.000   4826015   4269.276742\n",
      "39       Angola    Africa  1967   35.985   5247469   5522.776375\n",
      "40       Angola    Africa  1972   37.928   5894858   5473.288005\n",
      "41       Angola    Africa  1977   39.483   6162675   3008.647355\n",
      "42       Angola    Africa  1982   39.942   7016384   2756.953672\n",
      "43       Angola    Africa  1987   39.906   7874230   2430.208311\n",
      "44       Angola    Africa  1992   40.647   8735988   2627.845685\n",
      "45       Angola    Africa  1997   40.963   9875024   2277.140884\n",
      "46       Angola    Africa  2002   41.003  10866106   2773.287312\n",
      "47       Angola    Africa  2007   42.731  12420476   4797.231267\n",
      "48    Argentina  Americas  1952   62.485  17876956   5911.315053\n",
      "49    Argentina  Americas  1957   64.399  19610538   6856.856212\n",
      "50    Argentina  Americas  1962   65.142  21283783   7133.166023\n",
      "51    Argentina  Americas  1967   65.634  22934225   8052.953021\n",
      "52    Argentina  Americas  1972   67.065  24779799   9443.038526\n",
      "53    Argentina  Americas  1977   68.481  26983828  10079.026740\n",
      "...         ...       ...   ...      ...       ...           ...\n",
      "1638  Venezuela  Americas  1982   68.557  15620766  11152.410110\n",
      "1639  Venezuela  Americas  1987   70.190  17910182   9883.584648\n",
      "1640  Venezuela  Americas  1992   71.150  20265563  10733.926310\n",
      "1641  Venezuela  Americas  1997   72.146  22374398  10165.495180\n",
      "1642  Venezuela  Americas  2002   72.766  24287670   8605.047831\n",
      "1643  Venezuela  Americas  2007   73.747  26084662  11415.805690\n",
      "1680     Zambia    Africa  1952   42.038   2672000   1147.388831\n",
      "1681     Zambia    Africa  1957   44.077   3016000   1311.956766\n",
      "1682     Zambia    Africa  1962   46.023   3421000   1452.725766\n",
      "1683     Zambia    Africa  1967   47.768   3900000   1777.077318\n",
      "1684     Zambia    Africa  1972   50.107   4506497   1773.498265\n",
      "1685     Zambia    Africa  1977   51.386   5216550   1588.688299\n",
      "1686     Zambia    Africa  1982   51.821   6100407   1408.678565\n",
      "1687     Zambia    Africa  1987   50.821   7272406   1213.315116\n",
      "1688     Zambia    Africa  1992   46.100   8381163   1210.884633\n",
      "1689     Zambia    Africa  1997   40.238   9417789   1071.353818\n",
      "1690     Zambia    Africa  2002   39.193  10595811   1071.613938\n",
      "1691     Zambia    Africa  2007   42.384  11746035   1271.211593\n",
      "1692   Zimbabwe    Africa  1952   48.451   3080907    406.884115\n",
      "1693   Zimbabwe    Africa  1957   50.469   3646340    518.764268\n",
      "1694   Zimbabwe    Africa  1962   52.358   4277736    527.272182\n",
      "1695   Zimbabwe    Africa  1967   53.995   4995432    569.795071\n",
      "1696   Zimbabwe    Africa  1972   55.635   5861135    799.362176\n",
      "1697   Zimbabwe    Africa  1977   57.674   6642107    685.587682\n",
      "1698   Zimbabwe    Africa  1982   60.363   7636524    788.855041\n",
      "1699   Zimbabwe    Africa  1987   62.351   9216418    706.157306\n",
      "1700   Zimbabwe    Africa  1992   60.377  10704340    693.420786\n",
      "1701   Zimbabwe    Africa  1997   46.809  11404948    792.449960\n",
      "1702   Zimbabwe    Africa  2002   39.989  11926563    672.038623\n",
      "1703   Zimbabwe    Africa  2007   43.487  12311143    469.709298\n",
      "\n",
      "[924 rows x 6 columns]\n"
     ]
    }
   ],
   "source": [
    "print(myNewData)"
   ]
  },
  {
   "cell_type": "code",
   "execution_count": null,
   "metadata": {},
   "outputs": [],
   "source": []
  }
 ],
 "metadata": {
  "kernelspec": {
   "display_name": "Python 3",
   "language": "python",
   "name": "python3"
  },
  "language_info": {
   "codemirror_mode": {
    "name": "ipython",
    "version": 3
   },
   "file_extension": ".py",
   "mimetype": "text/x-python",
   "name": "python",
   "nbconvert_exporter": "python",
   "pygments_lexer": "ipython3",
   "version": "3.6.4"
  }
 },
 "nbformat": 4,
 "nbformat_minor": 2
}
